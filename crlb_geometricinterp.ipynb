{
 "cells": [
  {
   "cell_type": "markdown",
   "metadata": {},
   "source": [
    "## Short Note on the Geometric Interpretation of the Cramer-Rao Lower Bound\n",
    "I published this as an answer on stackexchange.com. I thought of adding it here, as it's a useful perspective towards the CRLB. \n",
    "I feel that the nature of the Cramer-Rao Lower Bound was best explained to me from a geometric perspective. This intuition is a summary of the concept of concentration ellipses from [Chapter 6 of Scharf's book on Statistical Signal Processing][1]. \n",
    "\n",
    "Consider any unbiased estimator of ${\\boldsymbol\\theta}$. Additionally, assume that the estimator $\\hat{\\boldsymbol\\theta}$ has a Gaussian distribution with covariance ${\\boldsymbol\\Sigma}$. Under these conditions, the distribution of $\\hat{\\boldsymbol\\theta}$ is proportional to:\n",
    "\n",
    "$$f(\\hat{\\boldsymbol\\theta})\\propto \\exp(-\\frac{1}{2}(\\hat{\\boldsymbol\\theta}-{\\boldsymbol\\theta})^T{\\boldsymbol\\Sigma}^{-1}(\\hat{\\boldsymbol\\theta}-{\\boldsymbol\\theta}))$$. \n",
    "\n",
    "Now think of the contour plots of this distribution for ${\\boldsymbol\\theta}\\in R^2$. Any upper bound constraint on the probability of $\\hat{\\boldsymbol\\theta}$ (i.e., $\\int f(\\hat{\\boldsymbol\\theta})d{\\boldsymbol\\theta} \\le P_r$) will result in an ellipsoid centered at ${\\boldsymbol\\theta}$ with fixed radius $r$. It's easy to show that there is a one-to-one relationship between the radius $r$ of the ellipsoid and the desired probability $P_r$. In other words, $\\hat{\\boldsymbol\\theta}$ is close to ${\\boldsymbol\\theta}$ within an ellipsoid determined by radius $r$ with probability $P_r$. This ellipsoid is called a concentration ellipsoid. \n",
    "\n",
    "Considering the description above, we can say the following about the CRLB. Among all unbiased estimators, the CRLB represents an estimator $\\hat{\\boldsymbol\\theta}_{crlb}$ with covariance $\\boldsymbol\\Sigma_{crlb}$ that, for fixed probability of \"closeness\" $P_r$ (as defined above), has the smallest concentration ellipsoid. The Figure below provides a 2D illustration (inspired by illustration in [Scharf's book][1]). \n",
    "\n",
    "[![2D illustration of CRLB in the context of unbiased estimators.][2]][2]\n",
    "\n",
    "\n",
    "  [1]: https://books.google.com.au/books/about/Statistical_Signal_Processing.html?id=y_dSAAAAMAAJ&redir_esc=y\n",
    "  [2]: https://i.stack.imgur.com/Tb3KO.jpg\n"
   ]
  }
 ],
 "metadata": {
  "kernelspec": {
   "display_name": "Python 3",
   "language": "python",
   "name": "python3"
  },
  "language_info": {
   "codemirror_mode": {
    "name": "ipython",
    "version": 3
   },
   "file_extension": ".py",
   "mimetype": "text/x-python",
   "name": "python",
   "nbconvert_exporter": "python",
   "pygments_lexer": "ipython3",
   "version": "3.6.6"
  }
 },
 "nbformat": 4,
 "nbformat_minor": 2
}
