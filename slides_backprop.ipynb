{
 "cells": [
  {
   "cell_type": "markdown",
   "metadata": {
    "slideshow": {
     "slide_type": "slide"
    }
   },
   "source": [
    "# Back-Propogation \n",
    "\n",
    "Navid Shokouhi\n",
    "\n",
    "Source:\n",
    "    I. Goodfellow, Y. Bengio and A. Courville, Deep Learning. MIT Press, 2016. (Sections 6.5) http://www.deeplearningbook.org"
   ]
  },
  {
   "cell_type": "markdown",
   "metadata": {
    "slideshow": {
     "slide_type": "fragment"
    }
   },
   "source": [
    "Back-propagation is a method used in neural networks to calculate gradients of the network loss function with respect to network parameters.\n",
    "\n",
    "Back-propagation is typically used as part of gradient descent. \n",
    "\n",
    "Back-propagation is not an optimization procedure, but rather an efficient way of implementing the chain rule of derivatives. "
   ]
  },
  {
   "cell_type": "markdown",
   "metadata": {
    "slideshow": {
     "slide_type": "slide"
    }
   },
   "source": [
    "## Outline\n",
    "1. [Computational Graphs](#1)\n",
    "2. [Chain Rule of Calculus](#2)\n",
    "3. [Recursively applying chain rule to obtain back-propagation](#3)\n",
    "4. [Back-Propagation Computation in Fully Connected MLP](#4)\n",
    "5. [Symbol-to-Symbol Derivatives: Implementation of Back-propagation](#5)\n",
    "6. [General Back-Propagation](#6)\n",
    "7. [Example: Back-Propagation for MLP Training](#7)\n",
    "8. [Other topics](#8)\n",
    "    1. [Complications](#9)\n",
    "    2. [Differentiation outside the Deep Learning Community](#10)\n",
    "    3. [Higher-Order Derivatives](#11)\n"
   ]
  },
  {
   "cell_type": "markdown",
   "metadata": {
    "slideshow": {
     "slide_type": "slide"
    }
   },
   "source": [
    "## Computational Graphs\n",
    "\n",
    "**computational graphs** provide a functional depiction of the network that can be directly linked to how gradients are calculated. \n",
    "\n",
    "In a computational graph, each **node** is used to represent a variable (inputs, outputs, and \n",
    "network parameters). \n",
    "\n",
    "A **variable** in the context of neural networks could be scalar, vector, matrix, or more generally a tensor. \n",
    "\n",
    "Nodes in a computation graph are connected through **functions**, also known as **operations**. "
   ]
  },
  {
   "cell_type": "markdown",
   "metadata": {
    "slideshow": {
     "slide_type": "skip"
    }
   },
   "source": [
    "Computational graphs are conventional diagrams used for neural networks and are mostly useful as a heuristic guideline of the general feedforward architecture of the network (see Fig.1). \n",
    "Without loss of generality, an operation can be defined to return only a single output variable, which itself can be multivariate. \n",
    "\n",
    " "
   ]
  },
  {
   "cell_type": "markdown",
   "metadata": {
    "slideshow": {
     "slide_type": "subslide"
    }
   },
   "source": [
    "### Generating a computational graph from a neural network diagram:\n",
    "We start by setting a node for each variable. \n",
    "\n",
    "Each node may have one or more **parent nodes**, whose associated variables are used to calculate the current node's variable. \n",
    "\n",
    "Parents are connected to the **consumer** node using directed edges, with a small lable at the junction, specifying the type of operation. "
   ]
  },
  {
   "cell_type": "markdown",
   "metadata": {
    "slideshow": {
     "slide_type": "subslide"
    }
   },
   "source": [
    "<img src=\"images/simpleDNN.png\" alt=\"Figure1\" width=\"600\"/>\n",
    "<img src=\"images/simpleDNN_compgraph.png\" alt=\"Figure2\" width=\"250\"/>"
   ]
  },
  {
   "cell_type": "markdown",
   "metadata": {
    "slideshow": {
     "slide_type": "slide"
    }
   },
   "source": [
    "## Chain Rule of Calculus\n",
    "\n",
    "Back-propagation implements the chain rule of derivatives. \n",
    "\n",
    "The chain rule of derivative is used to calculate the gradient of nested functions. \n",
    "\n",
    "$$y = g(x),$$\n",
    "\n",
    "$$z = f(y),$$\n",
    "\n",
    "$x\\in R^n$, $y\\in R^m$, $z\\in R$, \n",
    "\n",
    "$f:R^m\\rightarrow R$, and $g:R^n\\rightarrow R^m$. \n",
    "\n",
    "The derivative of $z$ with respect to each entry $x_i$ of $x$ for $i=1,\\dots,n$ is:\n",
    "\n",
    "$$\\frac{\\partial z}{\\partial x_i} = \\sum_{j=1}^{m}\\frac{\\partial z}{\\partial y_j}\\frac{\\partial y_j}{\\partial x_i},$$\n",
    "\n",
    "Using the $R^{n\\times m}$ Jacobian matrix between $y$ and $x$, denoted as $\\frac{\\partial {y}}{\\partial {x}}$, we have:\n",
    "\n",
    "$$\\nabla_{x}z = \\Big(\\frac{\\partial {y}}{\\partial { x}}\\Big)^\\top\\nabla_{y}z,$$\n",
    "\n",
    "Notice the recursive steps required to calculate $\\nabla_{\\bf x}z$. \n"
   ]
  },
  {
   "cell_type": "markdown",
   "metadata": {
    "slideshow": {
     "slide_type": "subslide"
    }
   },
   "source": [
    "The equation stated above is for when ${ x}$ is a vector. The extended case in which ${x}$ is a matrix (say ${X}$) requires tensor operations. \n",
    "\n",
    "This case can still be reformulated to our canonical chain rule equation by vectorizing the matrices. "
   ]
  },
  {
   "cell_type": "markdown",
   "metadata": {
    "slideshow": {
     "slide_type": "subslide"
    }
   },
   "source": [
    "To account for the general tensor scenario, we use the following notation. \n",
    "\n",
    "$$\\nabla_{ X}z = \\sum_{j = 1}^{\\# { Y}}\\nabla_{X}Y_j\\frac{\\partial z}{\\partial Y_j}$$\n",
    "\n",
    "${ X}$ and ${ Y}$ are tensors, \n",
    "\n",
    "$\\# { Y}$ denotes the number of elements in the tensor ${ Y}$, \n",
    "\n",
    "${Y_j}$ represents the $j^{th}$ entry of the tensor after vectorization. "
   ]
  },
  {
   "cell_type": "markdown",
   "metadata": {
    "slideshow": {
     "slide_type": "subslide"
    }
   },
   "source": [
    "### NOTE:\n",
    "Back-Propagation is often confused with gradient descent. \n",
    "\n",
    "Back-propagation is one of the many possible **implementations of the chain rule**.  "
   ]
  },
  {
   "cell_type": "markdown",
   "metadata": {
    "slideshow": {
     "slide_type": "slide"
    }
   },
   "source": [
    "## Recursively Applying the Chain Rule to Obtain Backprop\n",
    "We can extend this notion to multiple nested functions.\n",
    "\n",
    "e.g., each $\\nabla_{ X}Y_j$ is calculated from some \n",
    "other gradient, $\\nabla_{X}Q_j$, etc. \n"
   ]
  },
  {
   "cell_type": "markdown",
   "metadata": {
    "slideshow": {
     "slide_type": "subslide"
    }
   },
   "source": [
    "### Example: Repeated sub-expressions when computing the gradient\n",
    "\n",
    "Let $w\\in R$ be the input to a graph. \n",
    "\n",
    "We use the function $f:R\\rightarrow R$ in a loop, such that:\n",
    "\n",
    "$$x = f(w)$$\n",
    "\n",
    "$$y = f(x)$$\n",
    "\n",
    "$$z = f(y)$$"
   ]
  },
  {
   "cell_type": "markdown",
   "metadata": {
    "slideshow": {
     "slide_type": "subslide"
    }
   },
   "source": [
    "<img src=\"images/nested_functions.png\" alt=\"Figure3\" width=\"60\"/>\n",
    "\n",
    "The goal is to calculate $\\frac{\\partial z}{\\partial w}$. "
   ]
  },
  {
   "cell_type": "markdown",
   "metadata": {
    "slideshow": {
     "slide_type": "subslide"
    }
   },
   "source": [
    "Using the chain rule, we have:\n",
    "\n",
    "$$\\frac{\\partial z}{\\partial w} = f'(f(f(w)))f'(f(w))f'(w),$$\n",
    "\n",
    "where $f'$ denotes the derivative of with respect to its argument. \n",
    "\n",
    "A naive calculation of $\\frac{\\partial}{\\partial w}z$ requires calculating $f(w)$ twice. \n",
    "\n",
    "[Example](dp_fibonacci.ipynb)"
   ]
  },
  {
   "cell_type": "markdown",
   "metadata": {
    "slideshow": {
     "slide_type": "skip"
    }
   },
   "source": [
    "The previous example shows that in computing the gradient, \"lower-level\" values are more likely to be repeated. The way back-propogation addresses these repetitions is by first calculating these values through a forward pass (called forward-propagation) and stores the values in memory. After these values are calculated, everytime back-propagation reaches a new gradient in the chain rule, it first checks whether it has been stored \n",
    "in memory before attempting to calculate it. \n",
    "\n",
    "The back-propagation algorithm is designed to reduce the number of common sub-expressions without regard to memory. Precisely, the amount of computation required for performing the back-propagation scales linearly with the number of edges in the computational graph, which correspond to connections between\n",
    "parent and consumer nodes. \n",
    "\n",
    "It is often the case that we consider the computation per edge to be $O(1)$. "
   ]
  },
  {
   "cell_type": "markdown",
   "metadata": {
    "slideshow": {
     "slide_type": "slide"
    }
   },
   "source": [
    "## Back-Propagation Computation in Fully Connected MLP\n",
    "We look at back-propagation to calculate gradients in a generic directed graph. \n",
    "\n",
    "Now consider a feed-forward neural network with:\n",
    "\n",
    "layers (aka nodes) ${\\bf h}^{(k)}$ for $k={0,\\dots,l}$\n",
    "\n",
    "${\\bf h}^{(0)}$ represents the input layer \n",
    "\n",
    "${\\bf h}^{(l)}$ the output layer. \n",
    "\n",
    "This is a network with **depth $l$**. \n",
    "\n",
    "The weights and bias variables connecting $h^{k-1}$ to $h^{k}$ are denoted as ${\\bf W}^{(k)}$ and  ${\\bf b}^{(k)}$. "
   ]
  },
  {
   "cell_type": "markdown",
   "metadata": {
    "slideshow": {
     "slide_type": "subslide"
    }
   },
   "source": [
    "Define: \n",
    "\n",
    "$f(.)$ an element-wise non-linear activation function, \n",
    "\n",
    "$\\hat{\\bf y}$ output estimated by the network,\n",
    "\n",
    "$L(.,.)$ loss function, \n",
    "\n",
    "$\\Omega(.)$ regularization function.\n",
    "\n",
    "$J$ total cost; sum of $L$ and $\\Omega$. \n",
    "\n",
    "The gradient is the partial derivative of $J$ with respect to the network variables ${\\bf W}^{(k)}$ and ${\\bf b}^{(k)}$. "
   ]
  },
  {
   "cell_type": "markdown",
   "metadata": {
    "slideshow": {
     "slide_type": "subslide"
    }
   },
   "source": [
    "We initially calculate all node variables in a **forward propagation step**\n",
    "<img src=\"images/algorithm_2_1.png\" alt=\"Algorithm_2_1\" width=\"600\"/>"
   ]
  },
  {
   "cell_type": "markdown",
   "metadata": {
    "slideshow": {
     "slide_type": "subslide"
    }
   },
   "source": [
    "To calculate the gradients, the **back-propagation step** is as follows:\n",
    "<img src=\"images/algorithm_2_2.png\" alt=\"Algorithm_2_2\" width=\"600\"/>"
   ]
  },
  {
   "cell_type": "markdown",
   "metadata": {
    "slideshow": {
     "slide_type": "subslide"
    }
   },
   "source": [
    "Each intermediate gradient is calculated exactly once.\n",
    "\n",
    "$\\Rightarrow$ The overal backword calculations is $O(l)$.\n",
    "\n",
    "Calculating $\\nabla_{\\bf W^{(k)}}J$ or $\\nabla_{\\bf b^{(k)}}J$ in a naive way is to ignore the relation between the parent layer $k-1$ with the child (i.e., consumer) layer $k$. \n",
    "\n",
    "The number of computations in the naive approach is exponentially higher. "
   ]
  },
  {
   "cell_type": "markdown",
   "metadata": {
    "slideshow": {
     "slide_type": "slide"
    }
   },
   "source": [
    "## Symbol-to-Symbol Derivatives: Implementation of Back-propagation\n",
    "Using numerical values for inputs, we can set numerical values for the gradient corresponding to those input values.\n",
    "\n",
    "this approach is called **symbol-to-number derivative** implementation. \n",
    "\n",
    "e.g., Torch, Caffe. "
   ]
  },
  {
   "cell_type": "markdown",
   "metadata": {
    "slideshow": {
     "slide_type": "subslide"
    }
   },
   "source": [
    "Alternatively, \n",
    "\n",
    "Some software packages (e.g., Tensorflow and Theano) include derivates as additional nodes in the graph. \n",
    "\n",
    "When the graph is \"evaluated\" using actual numeric values, these so called symbols are calculated the same way any other variable is calculated. \n",
    "\n",
    "This approach is referred to as the **symbol-to-symbol** implementation.  \n"
   ]
  },
  {
   "cell_type": "markdown",
   "metadata": {
    "slideshow": {
     "slide_type": "subslide"
    }
   },
   "source": [
    "<img src=\"images/symbol_to_symbol.png\" alt=\"symbol2symbol\" width=\"600\"/>"
   ]
  },
  {
   "cell_type": "markdown",
   "metadata": {
    "slideshow": {
     "slide_type": "slide"
    }
   },
   "source": [
    "## General Back-Propagation\n",
    "\n",
    "Back-propagation is certain case of a class of algorithms called *Dynamic Programming* (DP).\n",
    "\n",
    "As in any recursive function, the chain rule uses \"parent\" variables to calculate the gradient. \n",
    "\n",
    "The parents then go through the same chain rule until we reach the inputs. "
   ]
  },
  {
   "cell_type": "markdown",
   "metadata": {
    "slideshow": {
     "slide_type": "subslide"
    }
   },
   "source": [
    "Using the following definitions, we can formulate a generic version of the back-propogation procedure:\n",
    "\n",
    "- graph *G*: computational graph\n",
    "- variable V: Tensor variable corresponding to a node. \n",
    "\t${\\bf V}$ comes with some subroutines. \n",
    "\t- `get_consumers`: return \"children\" of current node. \n",
    "\t- `get_inputs`: return parents of the current node. \n",
    "- T: the target set of nodes for which gradients are calculated. \n",
    "- operation `op`: Describes how variable is generated from its parents. Each node comes with an operation.\n",
    "(e.g., `matmul` is an operation associated with matrix multiplicatoin).\n",
    "\n",
    "\n",
    "- some useful methods of an `op`:\n",
    "\t- `op.f` the mathematical function of `op`.\n",
    "\t- `op.bprop` the backpropagation procedure specific to an operation. "
   ]
  },
  {
   "cell_type": "markdown",
   "metadata": {
    "slideshow": {
     "slide_type": "subslide"
    }
   },
   "source": [
    "Also define the graph *G'* that only contains nodes that participate in the gradient. \n",
    "\n",
    "The objective is to find the gradient ${\\bf G}$, which alongside all the other intermediate gradients is stored in the memoization variable `grad_table`. "
   ]
  },
  {
   "cell_type": "markdown",
   "metadata": {
    "slideshow": {
     "slide_type": "subslide"
    }
   },
   "source": [
    "<img src=\"images/algorithm_3_1.png\" alt=\"Algorithm_3_1\" width=\"600\"/>\n",
    "\n",
    "The algorithm above uses the function `build_grad` to calculate the gradients for each node. "
   ]
  },
  {
   "cell_type": "markdown",
   "metadata": {
    "slideshow": {
     "slide_type": "subslide"
    }
   },
   "source": [
    "`build_grad` is the core of the back-propagation function and is defined as:\n",
    "\n",
    "<img src=\"images/algorithm_3_2.png\" alt=\"Algorithm_3_2\" width=\"600\"/>"
   ]
  },
  {
   "cell_type": "markdown",
   "metadata": {
    "slideshow": {
     "slide_type": "subslide"
    }
   },
   "source": [
    "Example: \n",
    "`op.bprop` for a `matmul` opreation with inputs $A$ and $B$ (i.e., $V = AB$)\n",
    "\n",
    "There are two sub-terms, corresponding to $A$ and $B$.\n",
    "\n",
    "If the current gradient is $G$, the back-propogation is\n",
    "\n",
    "$$A^\\top G + G B^\\top$$\n",
    "\n",
    "comprised of gradient w.r.t to $B$ and $A$, respectively. \n",
    "\n",
    "In general, back-propagation at each node returns $\\sum_i (\\nabla_{X}$ `op.f` $($ `inputs` $)_i)G_i$\n"
   ]
  },
  {
   "cell_type": "markdown",
   "metadata": {
    "slideshow": {
     "slide_type": "slide"
    }
   },
   "source": [
    "## Example: Back-Propagation for MLP Training\n",
    "\n",
    "Consider a multi-layer perceptron with a single-hidden layer designed for a classification task, for which we are given\n",
    "\n",
    "a set of training features ${\\bf X}_{train}$ \n",
    "\n",
    "their corresponding labels presented in the \n",
    "matrix ${\\bf Y}_{train}$ containing 1-hot vectors for each training example. \n",
    "\n",
    "Assume that each row corresponds to \n",
    "a sample. \n",
    "\n",
    "In minibatch stochastic gradient descent, a subset of ${\\bf X}_{train}$ is selected, namely ${\\bf X}$ in each iteration of \n",
    "gradient descent alongside the corresponding labels ${\\bf Y}$. \n",
    "\n",
    "We will go through a single step of gradient descent given the minibatch (${\\bf X}, {\\bf Y}$). "
   ]
  },
  {
   "cell_type": "markdown",
   "metadata": {
    "slideshow": {
     "slide_type": "subslide"
    }
   },
   "source": [
    "The network architecture is comprised of (in this order): \n",
    "\n",
    "- Input layer: whose size is equal to the dimension of features in each sample of ${\\bf X}$\n",
    "- Fully connected linear weights $W^{(1)}$ that map each row in ${\\bf X}$ to ${\\bf U^{(1)} = XW^{(1)}}$ \n",
    "- A sample-wise non-linear ReLu activation layer that disgards negative entries in ${\\bf U^{(1)}}$, let us call the outputs ${\\bf H}$\n",
    "- Another fully connected set of linear weights that maps each row in ${\\bf H}$ to ${\\bf U^{(2)} = HW^{(2)}}$ \n",
    "- Output layer loss is calculated using the cross-entropy between ${\\bf Y}$ and the unnormalized log-probabilities represented by $U^{(2)}$. "
   ]
  },
  {
   "cell_type": "markdown",
   "metadata": {
    "slideshow": {
     "slide_type": "subslide"
    }
   },
   "source": [
    "For a binary classification example, maximum likelihood estimation (MLE) loss is:\n",
    "\n",
    "$$J_{MLE} = \\sum_{n=1}^{\\# minibatch}{\\bf y}_n\\log(U^{(2)}_n) + (1 - {\\bf y}_n)\\log(1 - U^{(2)}_n).$$\n",
    "\n",
    "Plus a regularization with Lagrange coefficient $\\lambda$:\n",
    "\n",
    "$$J_{reg} = \\lambda\\left(\\sum_{i,j}{W^{(2)}}^2(i,j) + \\sum_{i,j}{W^{(1)}}^2(i,j)\\right).$$\n",
    "\n",
    "Total loss:\n",
    "$J = J_{MLE} + J_{reg}$. "
   ]
  },
  {
   "cell_type": "markdown",
   "metadata": {
    "slideshow": {
     "slide_type": "subslide"
    }
   },
   "source": [
    "<img src=\"images/singlelayer_mlp.png\" alt=\"Figure4\" width=\"600\"/>"
   ]
  },
  {
   "cell_type": "markdown",
   "metadata": {
    "slideshow": {
     "slide_type": "subslide"
    }
   },
   "source": [
    "**Step 1:** Computational graph\n",
    "\n",
    "<img src=\"images/singlelayer_mlp_compgraph.png\" alt=\"Figure5\" width=\"600\"/>"
   ]
  },
  {
   "cell_type": "markdown",
   "metadata": {
    "slideshow": {
     "slide_type": "subslide"
    }
   },
   "source": [
    "**Step 2:** Forward pass calculates all node parameters using current value of parameters. \n",
    "\n",
    "**Step 3:** Backward disection of all paths form $J$ to ${\\bf W^{(1)}}$ and ${\\bf W^{(2)}}$. \n",
    "\n",
    "- *Path 1: \tRegularization path*: \n",
    "    This is a a fairly straight-forward path, because the gradients of $J$ along this path are simply: $2\\lambda{\\bf W^{(1)}}$ and $2\\lambda{\\bf W^{(2)}}$\n",
    "- *Path 2:\tCross-entropy path*:\n",
    "    This path is a bit more complicated as it requires using the chain-rule more than once, which itself creates several sub-paths.\n",
    "    - *Path 2.1:* $\\nabla_{\\bf U^{(2)}} : {\\bf G}$\n",
    "        - *Path 2.1.1:* $\\nabla_{\\bf W^{(2)}} : {\\bf H}$\n",
    "        - *Path 2.1.2:* $\\nabla_{\\bf H} : {\\bf W^{(2)\\top}}$\n",
    "            - *Path 2.1.2.1:* $\\nabla_{\\bf U^{(1)}} : {\\bf G'} = 1 | 0$ (ReLu differentiation; element-wise ones or zeros)\n",
    "                - *Path 2.1.2.1.1:* $\\nabla_{\\bf W^{(1)}} : {\\bf X^\\top}$"
   ]
  },
  {
   "cell_type": "markdown",
   "metadata": {
    "slideshow": {
     "slide_type": "skip"
    }
   },
   "source": [
    "The advantage of the back-propagation algorithm is evident from the fact that all of the parameters required for each path \n",
    "is already pre-computed. Therefore, with the additional cost of storing values such as $H$, we can directly use it to \n",
    "calculate the gradient using the backward pass. Notice that the number of operations is the number of paths (i.e., edges) and \n",
    "not the number of operations required by the chain rule. \n",
    "\t\t\t"
   ]
  },
  {
   "cell_type": "markdown",
   "metadata": {
    "slideshow": {
     "slide_type": "slide"
    }
   },
   "source": [
    "## Other topics\n",
    "The topics discussed so far in this section addressed the core concepts of back-propagation. However, there are several other \n",
    "aspects that were not discussed and are briefly mentioned here for the curious reader. "
   ]
  },
  {
   "cell_type": "markdown",
   "metadata": {
    "slideshow": {
     "slide_type": "subslide"
    }
   },
   "source": [
    "### Complications\n",
    "Some technical considerations:\n",
    "- Efficient methods for computing and employing other parameters during back-propagation (to save computation). \n",
    "- Direct calculation of summation of multiple tensors (to save memory).  \n",
    "- Details regarding floating point operations. \n",
    "- Addressing singularity points in calculating gradients (e.g., in ReLu). \n",
    "\n",
    "To ensure the scalability of back-propagation, all these items must be addressed. "
   ]
  },
  {
   "cell_type": "markdown",
   "metadata": {
    "slideshow": {
     "slide_type": "subslide"
    }
   },
   "source": [
    "### Differentiation outside the Deep Learning Community\n",
    "Back-propagation is one of many ways to implement the chain rule with some level of efficiency. \n",
    "\n",
    "It is a special case of a class of techniques called **reverse mode accumulation**, which itself is one of many classes of techniques in the field of \n",
    "**automatic differentiation**. "
   ]
  },
  {
   "cell_type": "markdown",
   "metadata": {
    "slideshow": {
     "slide_type": "skip"
    }
   },
   "source": [
    "The reason we say that back-propagation only has \"some level of efficiency\" is that finding the optimal sequence of calculations in automatic \n",
    "differentiation is an NP-hard problem. Although back-propagation is able to reduce the overall number of calculations for deep networks by \n",
    "employing memoization, it does not provide general guidelines to efficiently calculate function (i.e., operation) differentiation. There is no\n",
    "commonly used framework in machine learning that improves function differentiation, unless the developer specifically implements an efficient \n",
    "implementation for differentiating a certain (pre-determined) group of operations. "
   ]
  },
  {
   "cell_type": "markdown",
   "metadata": {
    "slideshow": {
     "slide_type": "subslide"
    }
   },
   "source": [
    "### Higher-Order Derivatives\n",
    "In some instances of training a DNN, higher-order derivatives can help improve gradient descent procedure. \n",
    "\n",
    "For example, the second-order derivative (i.e., Hessian matrix of the loss function), can be used \n",
    "as a guidance parameter during gradient descent iterations. \n",
    "\n",
    "An example is **momentum** learning for which the Hessian is added as a step-size for the gradient. \n",
    "\n",
    "\n",
    "An online publication by [Goh (2017)](https://distill.pub/2017/momentum/) comes with interactive figures and gives great intuition about the role of momentum in optimization. "
   ]
  },
  {
   "cell_type": "markdown",
   "metadata": {
    "slideshow": {
     "slide_type": "skip"
    }
   },
   "source": [
    "In most applications, calculating the Hessian is considered computationally expensive and therefore it is rarely used for large scale problems. \n",
    "For example, in a DNN with a scalar output and $n$ model parameters the Hessian is an $n\\times n$ matrix. \n",
    "Therefore, calculating the Hessian  for large $n$ may not be worth-while. \n",
    "\n",
    "!!!\tNote \n",
    "\tSometimes the iterative Krylov techniques are used to estimate the Hessian matrix in certain directions. "
   ]
  },
  {
   "cell_type": "markdown",
   "metadata": {
    "slideshow": {
     "slide_type": "slide"
    }
   },
   "source": [
    "## Acknowledgements\n",
    "Some figures and algorithms were copied from the deep learning book. \n",
    "    I. Goodfellow, et al, Deep Learning. MIT Press, 2016.\n",
    "\n",
    "This summary was written by Navid Shokouhi and reviewed by Selwyn Gomes."
   ]
  }
 ],
 "metadata": {
  "celltoolbar": "Slideshow",
  "kernelspec": {
   "display_name": "Python 2",
   "language": "python",
   "name": "python2"
  },
  "language_info": {
   "codemirror_mode": {
    "name": "ipython",
    "version": 2
   },
   "file_extension": ".py",
   "mimetype": "text/x-python",
   "name": "python",
   "nbconvert_exporter": "python",
   "pygments_lexer": "ipython2",
   "version": "2.7.10"
  }
 },
 "nbformat": 4,
 "nbformat_minor": 2
}
