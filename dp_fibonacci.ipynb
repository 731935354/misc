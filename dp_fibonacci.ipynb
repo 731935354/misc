{
 "cells": [
  {
   "cell_type": "markdown",
   "metadata": {
    "slideshow": {
     "slide_type": "slide"
    }
   },
   "source": [
    "## Memoization to calculate Fibonacci sequence\n",
    "The $n^{th}$ element of a Fibonacci sequence $f(n)$ is equal to $f(n-1) + f(n-2)$. \n",
    "\n",
    "The base case for this sequency is $f(0)=f(1)=1$. \n",
    "\n",
    "$$0,1,2,3,4,5,\\dots,n\\hspace{0.8cm}$$\n",
    "$$1,1,2,3,5,8,\\dots,f(n)$$"
   ]
  },
  {
   "cell_type": "markdown",
   "metadata": {
    "slideshow": {
     "slide_type": "slide"
    }
   },
   "source": [
    "## Standard recursion\n",
    "A straight-forward way to calculate this sequence is to use recursions:\n",
    "\n",
    "\n",
    "```python\n",
    "def fib(n):\n",
    "    if n==0 or n==1:\n",
    "        return 1\n",
    "    print('Calculate fib('+str(n-1)+')+fib('+str(n-2)+')')\n",
    "    return fib(n-1)+fib(n-2)\n",
    "```"
   ]
  },
  {
   "cell_type": "markdown",
   "metadata": {
    "slideshow": {
     "slide_type": "subslide"
    }
   },
   "source": [
    "```python\n",
    "print('fib(5) = ',fib(5))\n",
    "```\n",
    "\n",
    "    Calculate fib(4)+fib(3)\n",
    "    Calculate fib(3)+fib(2)\n",
    "    Calculate fib(2)+fib(1)\n",
    "    Calculate fib(1)+fib(0)\n",
    "    Calculate fib(1)+fib(0)\n",
    "    Calculate fib(2)+fib(1)\n",
    "    Calculate fib(1)+fib(0)\n",
    "    fib(5) =  8\n",
    "    \n",
    "\n",
    "The term `fib(1)+fib(0)` is calculated 3 times, and `fib(2)+fib(1)` is calculated 2 times. "
   ]
  },
  {
   "cell_type": "markdown",
   "metadata": {
    "slideshow": {
     "slide_type": "slide"
    }
   },
   "source": [
    "## Memoized recursion\n",
    "**Dynamic programming** can be used to significantly reduce the number of computations by avoiding such recalculations. \n",
    "\n",
    "Assume $f(n-1)$ and $f(n-2)$ are known, what is $f(n)$. \n",
    "\n",
    "The Fibonacci example is an implementation of DP using **memoization**. "
   ]
  },
  {
   "cell_type": "markdown",
   "metadata": {
    "slideshow": {
     "slide_type": "subslide"
    }
   },
   "source": [
    "```python\n",
    "def fib(n,memo={}):\n",
    "    if n in memo:\n",
    "        return memo[n]\n",
    "    if n==0 or n==1:\n",
    "        return 1\n",
    "    print('Calculate fib('+str(n-1)+')+fib('+str(n-2)+')')\n",
    "    memo[n-1] = fib(n-1)\n",
    "    memo[n-2] = fib(n-2)\n",
    "    return memo[n-1] + memo[n-2]\n",
    "```\n",
    "\n",
    "\n",
    "```python\n",
    "print('fib(5) = ',fib(5))\n",
    "```\n",
    "\n",
    "    Calculate fib(4)+fib(3)\n",
    "    Calculate fib(3)+fib(2)\n",
    "    Calculate fib(2)+fib(1)\n",
    "    Calculate fib(1)+fib(0)\n",
    "    fib(5) =  8\n",
    "    \n",
    "\n",
    "Using memoization, each entry of the Fibonacci sequence is calculated exactly once. \n",
    "\n",
    "Trading computation (time) for memory (space). "
   ]
  }
 ],
 "metadata": {
  "celltoolbar": "Slideshow",
  "kernelspec": {
   "display_name": "Python 2",
   "language": "python",
   "name": "python2"
  },
  "language_info": {
   "codemirror_mode": {
    "name": "ipython",
    "version": 2
   },
   "file_extension": ".py",
   "mimetype": "text/x-python",
   "name": "python",
   "nbconvert_exporter": "python",
   "pygments_lexer": "ipython2",
   "version": "2.7.10"
  }
 },
 "nbformat": 4,
 "nbformat_minor": 2
}
